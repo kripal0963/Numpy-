{
 "cells": [
  {
   "cell_type": "code",
   "execution_count": 3,
   "id": "b40e299e-396f-469b-90b8-9f7d69a5e6e5",
   "metadata": {},
   "outputs": [],
   "source": [
    "import openpyxl\n",
    "import pandas as pd\n",
    "\n",
    "workbook = openpyxl.Workbook()\n",
    "sheet = workbook.active\n",
    "\n",
    "data = [\n",
    "    ['NAME','DOMAINM','AGE','LOCATION','SALARY', 'EXPERIENCE'],\n",
    "    ['ALEX', 'TESTING', 25, 'BNG', 5000, 2],\n",
    "    ['BARG', 'DEVELOPER',30, 'CHE', 10000,3],\n",
    "    ['ARON', 'JAVA', 35, 'PUNE', 15000,4],\n",
    "    ['CHERRY', 'C', 45, 'HYD', 20000,6],\n",
    "    ['DAPIAN', 'DA', 47,'HYD',50000,7]\n",
    "]\n",
    "for row in data:\n",
    "    sheet.append(row)\n",
    "    workbook.save('data.xlsx')\n",
    "\n",
    "\n"
   ]
  },
  {
   "cell_type": "code",
   "execution_count": 4,
   "id": "58941095-9961-426a-acde-58258cc8e373",
   "metadata": {},
   "outputs": [
    {
     "data": {
      "text/plain": [
       "[['NAME', 'DOMAINM', 'AGE', 'LOCATION', 'SALARY', 'EXPERIENCE'],\n",
       " ['ALEX', 'TESTING', 25, 'BNG', 5000, 2],\n",
       " ['BARG', 'DEVELOPER', 30, 'CHE', 10000, 3],\n",
       " ['ARON', 'JAVA', 35, 'PUNE', 15000, 4],\n",
       " ['CHERRY', 'C', 45, 'HYD', 20000, 6],\n",
       " ['DAPIAN', 'DA', 47, 'HYD', 50000, 7]]"
      ]
     },
     "execution_count": 4,
     "metadata": {},
     "output_type": "execute_result"
    }
   ],
   "source": [
    "data"
   ]
  },
  {
   "cell_type": "code",
   "execution_count": 7,
   "id": "bf9e4ee4-22e6-4d91-b319-346a50bf6837",
   "metadata": {},
   "outputs": [
    {
     "data": {
      "text/plain": [
       "'C:\\\\Users\\\\kripal'"
      ]
     },
     "execution_count": 7,
     "metadata": {},
     "output_type": "execute_result"
    }
   ],
   "source": [
    "import os \n",
    "os.getcwd()"
   ]
  },
  {
   "cell_type": "code",
   "execution_count": 15,
   "id": "2ffa338d-a15f-413d-a945-c463189e3146",
   "metadata": {},
   "outputs": [
    {
     "data": {
      "text/html": [
       "<div>\n",
       "<style scoped>\n",
       "    .dataframe tbody tr th:only-of-type {\n",
       "        vertical-align: middle;\n",
       "    }\n",
       "\n",
       "    .dataframe tbody tr th {\n",
       "        vertical-align: top;\n",
       "    }\n",
       "\n",
       "    .dataframe thead th {\n",
       "        text-align: right;\n",
       "    }\n",
       "</style>\n",
       "<table border=\"1\" class=\"dataframe\">\n",
       "  <thead>\n",
       "    <tr style=\"text-align: right;\">\n",
       "      <th></th>\n",
       "      <th>NAME</th>\n",
       "      <th>DOMAINM</th>\n",
       "      <th>AGE</th>\n",
       "      <th>LOCATION</th>\n",
       "      <th>SALARY</th>\n",
       "      <th>EXPERIENCE</th>\n",
       "    </tr>\n",
       "  </thead>\n",
       "  <tbody>\n",
       "    <tr>\n",
       "      <th>0</th>\n",
       "      <td>ALEX</td>\n",
       "      <td>TESTING</td>\n",
       "      <td>25</td>\n",
       "      <td>BNG</td>\n",
       "      <td>5000</td>\n",
       "      <td>2</td>\n",
       "    </tr>\n",
       "    <tr>\n",
       "      <th>1</th>\n",
       "      <td>BARG</td>\n",
       "      <td>DEVELOPER</td>\n",
       "      <td>30</td>\n",
       "      <td>CHE</td>\n",
       "      <td>10000</td>\n",
       "      <td>3</td>\n",
       "    </tr>\n",
       "    <tr>\n",
       "      <th>2</th>\n",
       "      <td>ARON</td>\n",
       "      <td>JAVA</td>\n",
       "      <td>35</td>\n",
       "      <td>PUNE</td>\n",
       "      <td>15000</td>\n",
       "      <td>4</td>\n",
       "    </tr>\n",
       "    <tr>\n",
       "      <th>3</th>\n",
       "      <td>CHERRY</td>\n",
       "      <td>C</td>\n",
       "      <td>45</td>\n",
       "      <td>HYD</td>\n",
       "      <td>20000</td>\n",
       "      <td>6</td>\n",
       "    </tr>\n",
       "    <tr>\n",
       "      <th>4</th>\n",
       "      <td>DAPIAN</td>\n",
       "      <td>DA</td>\n",
       "      <td>47</td>\n",
       "      <td>HYD</td>\n",
       "      <td>50000</td>\n",
       "      <td>7</td>\n",
       "    </tr>\n",
       "  </tbody>\n",
       "</table>\n",
       "</div>"
      ],
      "text/plain": [
       "     NAME    DOMAINM  AGE LOCATION  SALARY  EXPERIENCE\n",
       "0    ALEX    TESTING   25      BNG    5000           2\n",
       "1    BARG  DEVELOPER   30      CHE   10000           3\n",
       "2    ARON       JAVA   35     PUNE   15000           4\n",
       "3  CHERRY          C   45      HYD   20000           6\n",
       "4  DAPIAN         DA   47      HYD   50000           7"
      ]
     },
     "execution_count": 15,
     "metadata": {},
     "output_type": "execute_result"
    }
   ],
   "source": [
    "emp = pd.read_excel(r'C:\\\\Users\\\\kripal\\\\data.xlsx')\n",
    "emp"
   ]
  },
  {
   "cell_type": "code",
   "execution_count": 17,
   "id": "58179835-3b2b-4754-9b54-eaf53c4c622b",
   "metadata": {},
   "outputs": [
    {
     "data": {
      "text/plain": [
       "(5, 6)"
      ]
     },
     "execution_count": 17,
     "metadata": {},
     "output_type": "execute_result"
    }
   ],
   "source": [
    "emp.shape"
   ]
  },
  {
   "cell_type": "code",
   "execution_count": 20,
   "id": "72488cfe-d6a8-4311-beac-199d00fbb6d3",
   "metadata": {},
   "outputs": [
    {
     "data": {
      "text/plain": [
       "Index(['NAME', 'DOMAINM', 'AGE', 'LOCATION', 'SALARY', 'EXPERIENCE'], dtype='object')"
      ]
     },
     "execution_count": 20,
     "metadata": {},
     "output_type": "execute_result"
    }
   ],
   "source": [
    "emp.columns"
   ]
  },
  {
   "cell_type": "code",
   "execution_count": 22,
   "id": "0a7cfe03-f6ce-4985-a5d1-551b782285e2",
   "metadata": {},
   "outputs": [
    {
     "data": {
      "text/plain": [
       "6"
      ]
     },
     "execution_count": 22,
     "metadata": {},
     "output_type": "execute_result"
    }
   ],
   "source": [
    "len(emp.columns)"
   ]
  },
  {
   "cell_type": "code",
   "execution_count": 24,
   "id": "67cfe256-9edb-4693-983d-210615a89cfd",
   "metadata": {},
   "outputs": [
    {
     "data": {
      "text/plain": [
       "5"
      ]
     },
     "execution_count": 24,
     "metadata": {},
     "output_type": "execute_result"
    }
   ],
   "source": [
    "len(emp)"
   ]
  },
  {
   "cell_type": "code",
   "execution_count": 26,
   "id": "21148ab8-85a5-4b98-b4ed-633b27237686",
   "metadata": {},
   "outputs": [
    {
     "data": {
      "text/html": [
       "<div>\n",
       "<style scoped>\n",
       "    .dataframe tbody tr th:only-of-type {\n",
       "        vertical-align: middle;\n",
       "    }\n",
       "\n",
       "    .dataframe tbody tr th {\n",
       "        vertical-align: top;\n",
       "    }\n",
       "\n",
       "    .dataframe thead th {\n",
       "        text-align: right;\n",
       "    }\n",
       "</style>\n",
       "<table border=\"1\" class=\"dataframe\">\n",
       "  <thead>\n",
       "    <tr style=\"text-align: right;\">\n",
       "      <th></th>\n",
       "      <th>NAME</th>\n",
       "      <th>DOMAINM</th>\n",
       "      <th>AGE</th>\n",
       "      <th>LOCATION</th>\n",
       "      <th>SALARY</th>\n",
       "      <th>EXPERIENCE</th>\n",
       "    </tr>\n",
       "  </thead>\n",
       "  <tbody>\n",
       "    <tr>\n",
       "      <th>0</th>\n",
       "      <td>ALEX</td>\n",
       "      <td>TESTING</td>\n",
       "      <td>25</td>\n",
       "      <td>BNG</td>\n",
       "      <td>5000</td>\n",
       "      <td>2</td>\n",
       "    </tr>\n",
       "    <tr>\n",
       "      <th>1</th>\n",
       "      <td>BARG</td>\n",
       "      <td>DEVELOPER</td>\n",
       "      <td>30</td>\n",
       "      <td>CHE</td>\n",
       "      <td>10000</td>\n",
       "      <td>3</td>\n",
       "    </tr>\n",
       "    <tr>\n",
       "      <th>2</th>\n",
       "      <td>ARON</td>\n",
       "      <td>JAVA</td>\n",
       "      <td>35</td>\n",
       "      <td>PUNE</td>\n",
       "      <td>15000</td>\n",
       "      <td>4</td>\n",
       "    </tr>\n",
       "    <tr>\n",
       "      <th>3</th>\n",
       "      <td>CHERRY</td>\n",
       "      <td>C</td>\n",
       "      <td>45</td>\n",
       "      <td>HYD</td>\n",
       "      <td>20000</td>\n",
       "      <td>6</td>\n",
       "    </tr>\n",
       "    <tr>\n",
       "      <th>4</th>\n",
       "      <td>DAPIAN</td>\n",
       "      <td>DA</td>\n",
       "      <td>47</td>\n",
       "      <td>HYD</td>\n",
       "      <td>50000</td>\n",
       "      <td>7</td>\n",
       "    </tr>\n",
       "  </tbody>\n",
       "</table>\n",
       "</div>"
      ],
      "text/plain": [
       "     NAME    DOMAINM  AGE LOCATION  SALARY  EXPERIENCE\n",
       "0    ALEX    TESTING   25      BNG    5000           2\n",
       "1    BARG  DEVELOPER   30      CHE   10000           3\n",
       "2    ARON       JAVA   35     PUNE   15000           4\n",
       "3  CHERRY          C   45      HYD   20000           6\n",
       "4  DAPIAN         DA   47      HYD   50000           7"
      ]
     },
     "execution_count": 26,
     "metadata": {},
     "output_type": "execute_result"
    }
   ],
   "source": [
    "emp"
   ]
  },
  {
   "cell_type": "code",
   "execution_count": 28,
   "id": "1f310ab6-57b9-4c7e-b7b7-9049bc50c6a9",
   "metadata": {},
   "outputs": [
    {
     "data": {
      "text/plain": [
       "0     5000\n",
       "1    10000\n",
       "2    15000\n",
       "3    20000\n",
       "4    50000\n",
       "Name: SALARY, dtype: int64"
      ]
     },
     "execution_count": 28,
     "metadata": {},
     "output_type": "execute_result"
    }
   ],
   "source": [
    "emp['SALARY']"
   ]
  },
  {
   "cell_type": "code",
   "execution_count": 38,
   "id": "f23e7672-8dc9-4d31-a941-cd0f483c3769",
   "metadata": {},
   "outputs": [
    {
     "data": {
      "text/html": [
       "<div>\n",
       "<style scoped>\n",
       "    .dataframe tbody tr th:only-of-type {\n",
       "        vertical-align: middle;\n",
       "    }\n",
       "\n",
       "    .dataframe tbody tr th {\n",
       "        vertical-align: top;\n",
       "    }\n",
       "\n",
       "    .dataframe thead th {\n",
       "        text-align: right;\n",
       "    }\n",
       "</style>\n",
       "<table border=\"1\" class=\"dataframe\">\n",
       "  <thead>\n",
       "    <tr style=\"text-align: right;\">\n",
       "      <th></th>\n",
       "      <th>SALARY</th>\n",
       "      <th>EXPERIENCE</th>\n",
       "    </tr>\n",
       "  </thead>\n",
       "  <tbody>\n",
       "    <tr>\n",
       "      <th>0</th>\n",
       "      <td>5000</td>\n",
       "      <td>2</td>\n",
       "    </tr>\n",
       "    <tr>\n",
       "      <th>1</th>\n",
       "      <td>10000</td>\n",
       "      <td>3</td>\n",
       "    </tr>\n",
       "    <tr>\n",
       "      <th>2</th>\n",
       "      <td>15000</td>\n",
       "      <td>4</td>\n",
       "    </tr>\n",
       "    <tr>\n",
       "      <th>3</th>\n",
       "      <td>20000</td>\n",
       "      <td>6</td>\n",
       "    </tr>\n",
       "    <tr>\n",
       "      <th>4</th>\n",
       "      <td>50000</td>\n",
       "      <td>7</td>\n",
       "    </tr>\n",
       "  </tbody>\n",
       "</table>\n",
       "</div>"
      ],
      "text/plain": [
       "   SALARY  EXPERIENCE\n",
       "0    5000           2\n",
       "1   10000           3\n",
       "2   15000           4\n",
       "3   20000           6\n",
       "4   50000           7"
      ]
     },
     "execution_count": 38,
     "metadata": {},
     "output_type": "execute_result"
    }
   ],
   "source": [
    "emp[['SALARY','EXPERIENCE']]"
   ]
  },
  {
   "cell_type": "code",
   "execution_count": 40,
   "id": "56599065-4425-49a5-86ab-0eff291ea03e",
   "metadata": {},
   "outputs": [
    {
     "data": {
      "text/html": [
       "<div>\n",
       "<style scoped>\n",
       "    .dataframe tbody tr th:only-of-type {\n",
       "        vertical-align: middle;\n",
       "    }\n",
       "\n",
       "    .dataframe tbody tr th {\n",
       "        vertical-align: top;\n",
       "    }\n",
       "\n",
       "    .dataframe thead th {\n",
       "        text-align: right;\n",
       "    }\n",
       "</style>\n",
       "<table border=\"1\" class=\"dataframe\">\n",
       "  <thead>\n",
       "    <tr style=\"text-align: right;\">\n",
       "      <th></th>\n",
       "      <th>SALARY</th>\n",
       "      <th>EXPERIENCE</th>\n",
       "      <th>AGE</th>\n",
       "    </tr>\n",
       "  </thead>\n",
       "  <tbody>\n",
       "    <tr>\n",
       "      <th>0</th>\n",
       "      <td>5000</td>\n",
       "      <td>2</td>\n",
       "      <td>25</td>\n",
       "    </tr>\n",
       "    <tr>\n",
       "      <th>1</th>\n",
       "      <td>10000</td>\n",
       "      <td>3</td>\n",
       "      <td>30</td>\n",
       "    </tr>\n",
       "    <tr>\n",
       "      <th>2</th>\n",
       "      <td>15000</td>\n",
       "      <td>4</td>\n",
       "      <td>35</td>\n",
       "    </tr>\n",
       "    <tr>\n",
       "      <th>3</th>\n",
       "      <td>20000</td>\n",
       "      <td>6</td>\n",
       "      <td>45</td>\n",
       "    </tr>\n",
       "    <tr>\n",
       "      <th>4</th>\n",
       "      <td>50000</td>\n",
       "      <td>7</td>\n",
       "      <td>47</td>\n",
       "    </tr>\n",
       "  </tbody>\n",
       "</table>\n",
       "</div>"
      ],
      "text/plain": [
       "   SALARY  EXPERIENCE  AGE\n",
       "0    5000           2   25\n",
       "1   10000           3   30\n",
       "2   15000           4   35\n",
       "3   20000           6   45\n",
       "4   50000           7   47"
      ]
     },
     "execution_count": 40,
     "metadata": {},
     "output_type": "execute_result"
    }
   ],
   "source": [
    "emp[['SALARY','EXPERIENCE','AGE']]"
   ]
  },
  {
   "cell_type": "code",
   "execution_count": 44,
   "id": "787cfc2d-24e1-4274-b91f-da13a66152c5",
   "metadata": {},
   "outputs": [],
   "source": [
    "import numpy as np # nd ARRAY\n",
    "import matplotlib.pyplot as plt #visualization\n",
    "import seaborn as sns #statitics visualization"
   ]
  },
  {
   "cell_type": "code",
   "execution_count": 46,
   "id": "fab0a8c7-ac1f-4ac2-b7a9-557eb299378a",
   "metadata": {},
   "outputs": [
    {
     "data": {
      "image/png": "[encoded data removed]",
      "text/plain": [
       "<Figure size 500x500 with 1 Axes>"
      ]
     },
     "metadata": {},
     "output_type": "display_data"
    }
   ],
   "source": [
    "vis1 = sns.displot(emp['SALARY'])"
   ]
  },
  {
   "cell_type": "code",
   "execution_count": 48,
   "id": "7d925ea5-b73d-452b-a96f-75765585dc3d",
   "metadata": {},
   "outputs": [
    {
     "name": "stderr",
     "output_type": "stream",
     "text": [
      "C:\\Users\\kripal\\AppData\\Local\\Temp\\ipykernel_1612\\826855712.py:1: UserWarning: \n",
      "\n",
      "`distplot` is a deprecated function and will be removed in seaborn v0.14.0.\n",
      "\n",
      "Please adapt your code to use either `displot` (a figure-level function with\n",
      "similar flexibility) or `histplot` (an axes-level function for histograms).\n",
      "\n",
      "For a guide to updating your code to use the new functions, please see\n",
      "https://gist.github.com/mwaskom/de44147ed2974457ad6372750bbe5751\n",
      "\n",
      "  vis2 = sns.distplot(emp['SALARY'])\n"
     ]
    },
    {
     "data": {
      "image/png": "[encoded data removed]",
      "text/plain": [
       "<Figure size 640x480 with 1 Axes>"
      ]
     },
     "metadata": {},
     "output_type": "display_data"
    }
   ],
   "source": [
    "vis2 = sns.distplot(emp['SALARY'])"
   ]
  },
  {
   "cell_type": "code",
   "execution_count": 52,
   "id": "634ef9ef-c3c3-4b5d-8a2b-7bba4510df4a",
   "metadata": {},
   "outputs": [
    {
     "data": {
      "image/png": "[encoded data removed]",
      "text/plain": [
       "<Figure size 640x480 with 1 Axes>"
      ]
     },
     "metadata": {},
     "output_type": "display_data"
    }
   ],
   "source": [
    "vis3 = plt.hist(emp['SALARY'])"
   ]
  },
  {
   "cell_type": "code",
   "execution_count": 54,
   "id": "0af7348f-2d9d-4f10-9bb2-44ecb7ee38a7",
   "metadata": {},
   "outputs": [],
   "source": [
    "plt.rcParams['figure.figsize'] = 5,1"
   ]
  },
  {
   "cell_type": "code",
   "execution_count": 58,
   "id": "b3b5b225-4fed-4e3e-9ff8-612dafd6f607",
   "metadata": {},
   "outputs": [
    {
     "data": {
      "image/png": "[encoded data removed]",
      "text/plain": [
       "<Figure size 500x500 with 1 Axes>"
      ]
     },
     "metadata": {},
     "output_type": "display_data"
    }
   ],
   "source": [
    "vis5 = sns.lmplot(data=emp, x = 'EXPERIENCE',y = 'SALARY')"
   ]
  },
  {
   "cell_type": "code",
   "execution_count": 68,
   "id": "a7b72d2c-7feb-481e-8121-4a7662f677c5",
   "metadata": {},
   "outputs": [
    {
     "data": {
      "image/png": "[encoded data removed]",
      "text/plain": [
       "<Figure size 500x500 with 1 Axes>"
      ]
     },
     "metadata": {},
     "output_type": "display_data"
    }
   ],
   "source": [
    "vis5 = sns.lmplot(data=emp, x = 'EXPERIENCE', y = 'SALARY', fit_reg=False)"
   ]
  },
  {
   "cell_type": "code",
   "execution_count": 74,
   "id": "307b5e1b-c32f-462d-b960-281862b03bdc",
   "metadata": {},
   "outputs": [
    {
     "data": {
      "image/png": "[encoded data removed]",
      "text/plain": [
       "<Figure size 500x500 with 1 Axes>"
      ]
     },
     "metadata": {},
     "output_type": "display_data"
    }
   ],
   "source": [
    "vis6 = sns.lmplot(data=emp, x = 'EXPERIENCE', y = 'SALARY', fit_reg=True)"
   ]
  },
  {
   "cell_type": "code",
   "execution_count": null,
   "id": "f25d63a8-3c6b-4e36-a700-a77a971c2c5d",
   "metadata": {},
   "outputs": [],
   "source": []
  }
 ],
 "metadata": {
  "kernelspec": {
   "display_name": "Python 3 (ipykernel)",
   "language": "python",
   "name": "python3"
  },
  "language_info": {
   "codemirror_mode": {
    "name": "ipython",
    "version": 3
   },
   "file_extension": ".py",
   "mimetype": "text/x-python",
   "name": "python",
   "nbconvert_exporter": "python",
   "pygments_lexer": "ipython3",
   "version": "3.12.4"
  }
 },
 "nbformat": 4,
 "nbformat_minor": 5
}
