{
 "cells": [
  {
   "cell_type": "code",
   "execution_count": 1,
   "id": "ebfa3163-f600-4ee3-8bc1-b20614ace1f7",
   "metadata": {},
   "outputs": [],
   "source": [
    "import numpy as np\n"
   ]
  },
  {
   "cell_type": "code",
   "execution_count": 9,
   "id": "a079200d-baca-436a-b879-b8966fffd0c6",
   "metadata": {},
   "outputs": [
    {
     "data": {
      "text/plain": [
       "array([  2,   4,  56, 433,  32,   1])"
      ]
     },
     "execution_count": 9,
     "metadata": {},
     "output_type": "execute_result"
    }
   ],
   "source": [
    "np.array([2,4,56,433,32,1]) # 1d array\n"
   ]
  },
  {
   "cell_type": "code",
   "execution_count": 11,
   "id": "6826a455-99ad-4c8f-a49d-9b2343bc4f32",
   "metadata": {},
   "outputs": [
    {
     "name": "stdout",
     "output_type": "stream",
     "text": [
      "[  2   4  56 433  32   1]\n"
     ]
    }
   ],
   "source": [
    "a = np.array([2,4,56,433,32,1]) \n",
    "print(a)\n"
   ]
  },
  {
   "cell_type": "code",
   "execution_count": 13,
   "id": "bf385cd6-519c-4e49-8dcd-b21e8ac96125",
   "metadata": {},
   "outputs": [
    {
     "data": {
      "text/plain": [
       "numpy.ndarray"
      ]
     },
     "execution_count": 13,
     "metadata": {},
     "output_type": "execute_result"
    }
   ],
   "source": [
    "type(a)"
   ]
  },
  {
   "cell_type": "code",
   "execution_count": 21,
   "id": "30ed246e-facc-429b-be2f-0ed7c8cd7491",
   "metadata": {},
   "outputs": [
    {
     "name": "stdout",
     "output_type": "stream",
     "text": [
      "[[45 36 46 37]\n",
      " [24 56 67 68]]\n"
     ]
    }
   ],
   "source": [
    "#2d array # matrix\n",
    "new = np.array([[45,36,46,37],[24,56,67,68]])\n",
    "print(new)"
   ]
  },
  {
   "cell_type": "code",
   "execution_count": 27,
   "id": "58f53cbb-6521-46a4-89d2-76e561d03806",
   "metadata": {},
   "outputs": [
    {
     "data": {
      "text/plain": [
       "array([[   2,    3,    4,    5,    5],\n",
       "       [  23,   45,   67,   67,   78],\n",
       "       [2536, 4747,   57,   68,   89],\n",
       "       [  34,   89,   90,   56,   78]])"
      ]
     },
     "execution_count": 27,
     "metadata": {},
     "output_type": "execute_result"
    }
   ],
   "source": [
    "# 3D array\n",
    "np.array([[2,3,4,5,5,],[23,45,67,67,78],[2536,4747,57,68,89],[34,89,90,56,78]])"
   ]
  },
  {
   "cell_type": "code",
   "execution_count": 65,
   "id": "3b936474-64af-421d-b0fe-feae7c73095b",
   "metadata": {},
   "outputs": [
    {
     "data": {
      "text/plain": [
       "array([11., 23., 44.])"
      ]
     },
     "execution_count": 65,
     "metadata": {},
     "output_type": "execute_result"
    }
   ],
   "source": [
    "np.array([11,23,44], dtype=float)"
   ]
  },
  {
   "cell_type": "code",
   "execution_count": 67,
   "id": "691f8e59-caa5-44f3-941b-d099f66ef717",
   "metadata": {},
   "outputs": [
    {
     "data": {
      "text/plain": [
       "array([ True,  True,  True])"
      ]
     },
     "execution_count": 67,
     "metadata": {},
     "output_type": "execute_result"
    }
   ],
   "source": [
    "np.array([11,223,33], dtype=bool) #here is True because python treats non zero"
   ]
  },
  {
   "cell_type": "code",
   "execution_count": 69,
   "id": "92d73dc4-e12f-4248-beef-db0b1743e9e3",
   "metadata": {},
   "outputs": [
    {
     "data": {
      "text/plain": [
       "array([11.+0.j, 44.+0.j, 66.+0.j])"
      ]
     },
     "execution_count": 69,
     "metadata": {},
     "output_type": "execute_result"
    }
   ],
   "source": [
    "np.array([11,44,66], dtype=complex)"
   ]
  },
  {
   "cell_type": "markdown",
   "id": "cd3215b1-9ff2-4cbc-8651-0b678c45bc91",
   "metadata": {},
   "source": [
    "### arange"
   ]
  },
  {
   "cell_type": "code",
   "execution_count": 72,
   "id": "5faa39c1-dc84-4da0-9f20-df1ef5137c53",
   "metadata": {},
   "outputs": [
    {
     "data": {
      "text/plain": [
       "array([ 1,  2,  3,  4,  5,  6,  7,  8,  9, 10, 11, 12, 13, 14, 15, 16, 17,\n",
       "       18, 19, 20, 21, 22, 23, 24])"
      ]
     },
     "execution_count": 72,
     "metadata": {},
     "output_type": "execute_result"
    }
   ],
   "source": [
    "np.arange(1,25) # 1 = included & 25- last one got excluded"
   ]
  },
  {
   "cell_type": "code",
   "execution_count": 80,
   "id": "1ef9b03e-357c-4987-89d8-0e161caf24b9",
   "metadata": {},
   "outputs": [
    {
     "data": {
      "text/plain": [
       "array([ 1,  4,  7, 10, 13, 16, 19, 22])"
      ]
     },
     "execution_count": 80,
     "metadata": {},
     "output_type": "execute_result"
    }
   ],
   "source": [
    "np.arange(1,25,3) #strides ...... alternate number"
   ]
  },
  {
   "cell_type": "code",
   "execution_count": 82,
   "id": "f4bf1fd2-91a8-40cb-9600-b3f91d052d5b",
   "metadata": {},
   "outputs": [
    {
     "data": {
      "text/plain": [
       "array([-10,  -9,  -8,  -7,  -6,  -5,  -4,  -3,  -2,  -1,   0,   1,   2,\n",
       "         3,   4,   5,   6,   7,   8,   9])"
      ]
     },
     "execution_count": 82,
     "metadata": {},
     "output_type": "execute_result"
    }
   ],
   "source": [
    "np.arange(-10,10)"
   ]
  },
  {
   "cell_type": "code",
   "execution_count": 86,
   "id": "bdc7c612-fe33-4c82-a066-bf663116f10e",
   "metadata": {},
   "outputs": [
    {
     "data": {
      "text/plain": [
       "array([], dtype=int32)"
      ]
     },
     "execution_count": 86,
     "metadata": {},
     "output_type": "execute_result"
    }
   ],
   "source": [
    "np.arange(20,10) #always bigger value comes first in numpy"
   ]
  },
  {
   "cell_type": "code",
   "execution_count": 88,
   "id": "b97e8a11-8963-4f8c-bae8-bc0c9e9c9962",
   "metadata": {},
   "outputs": [
    {
     "data": {
      "text/plain": [
       "array([10, 20, 30, 40, 50, 60, 70, 80, 90])"
      ]
     },
     "execution_count": 88,
     "metadata": {},
     "output_type": "execute_result"
    }
   ],
   "source": [
    "np.arange(10,100,10)"
   ]
  },
  {
   "cell_type": "markdown",
   "id": "2244f338-6880-4bbe-bf17-c772a75f88d4",
   "metadata": {},
   "source": [
    "# reshape"
   ]
  },
  {
   "cell_type": "code",
   "execution_count": 95,
   "id": "f5f81560-1ebb-42a6-ac3f-0f8cda30e581",
   "metadata": {},
   "outputs": [
    {
     "data": {
      "text/plain": [
       "array([[ 1,  2],\n",
       "       [ 3,  4],\n",
       "       [ 5,  6],\n",
       "       [ 7,  8],\n",
       "       [ 9, 10]])"
      ]
     },
     "execution_count": 95,
     "metadata": {},
     "output_type": "execute_result"
    }
   ],
   "source": [
    "np.arange(1,11).reshape(5,2) #convert 5 rows and 2 columns"
   ]
  },
  {
   "cell_type": "code",
   "execution_count": 97,
   "id": "27c8a353-d5a9-4b8b-958f-fe51ff6e2935",
   "metadata": {},
   "outputs": [
    {
     "ename": "ValueError",
     "evalue": "cannot reshape array of size 19 into shape (2,5)",
     "output_type": "error",
     "traceback": [
      "\u001b[1;31m---------------------------------------------------------------------------\u001b[0m",
      "\u001b[1;31mValueError\u001b[0m                                Traceback (most recent call last)",
      "Cell \u001b[1;32mIn[97], line 1\u001b[0m\n\u001b[1;32m----> 1\u001b[0m np\u001b[38;5;241m.\u001b[39marange(\u001b[38;5;241m1\u001b[39m,\u001b[38;5;241m20\u001b[39m)\u001b[38;5;241m.\u001b[39mreshape(\u001b[38;5;241m2\u001b[39m,\u001b[38;5;241m5\u001b[39m)\n",
      "\u001b[1;31mValueError\u001b[0m: cannot reshape array of size 19 into shape (2,5)"
     ]
    }
   ],
   "source": [
    "np.arange(1,20).reshape(2,5)"
   ]
  },
  {
   "cell_type": "code",
   "execution_count": 121,
   "id": "261b5944-6b03-4b1c-bee0-f92474f02767",
   "metadata": {},
   "outputs": [
    {
     "data": {
      "text/plain": [
       "array([[ 1,  2,  3,  4,  5,  6,  7,  8,  9, 10],\n",
       "       [11, 12, 13, 14, 15, 16, 17, 18, 19, 20]])"
      ]
     },
     "execution_count": 121,
     "metadata": {},
     "output_type": "execute_result"
    }
   ],
   "source": [
    "np.arange(1,21).reshape(2,10) #for short cut is 2*10"
   ]
  },
  {
   "cell_type": "code",
   "execution_count": 117,
   "id": "f5b9211f-5a0b-4d3d-be42-b4f56fe69e54",
   "metadata": {},
   "outputs": [
    {
     "data": {
      "text/plain": [
       "array([[ 1,  2,  3],\n",
       "       [ 4,  5,  6],\n",
       "       [ 7,  8,  9],\n",
       "       [10, 11, 12]])"
      ]
     },
     "execution_count": 117,
     "metadata": {},
     "output_type": "execute_result"
    }
   ],
   "source": [
    "np.arange(1,13).reshape(4,3) #littlebit logic need"
   ]
  },
  {
   "cell_type": "code",
   "execution_count": 123,
   "id": "3b9960b5-2354-4542-9d62-5b82e2656509",
   "metadata": {},
   "outputs": [
    {
     "data": {
      "text/plain": [
       "array([[ 1,  2,  3,  4],\n",
       "       [ 5,  6,  7,  8],\n",
       "       [ 9, 10, 11, 12]])"
      ]
     },
     "execution_count": 123,
     "metadata": {},
     "output_type": "execute_result"
    }
   ],
   "source": [
    "np.arange(1,13).reshape(3,4) #littlebit logic need"
   ]
  },
  {
   "cell_type": "markdown",
   "id": "bee3527b-21eb-4fc5-bf6a-1d4d962fc116",
   "metadata": {},
   "source": [
    "# ones & zeros"
   ]
  },
  {
   "cell_type": "code",
   "execution_count": 130,
   "id": "a7c6be10-0c69-4d16-9695-b5d31b6a8a63",
   "metadata": {},
   "outputs": [
    {
     "data": {
      "text/plain": [
       "array([[1., 1., 1., 1.],\n",
       "       [1., 1., 1., 1.],\n",
       "       [1., 1., 1., 1.]])"
      ]
     },
     "execution_count": 130,
     "metadata": {},
     "output_type": "execute_result"
    }
   ],
   "source": [
    "# np.ones and np.zeros\n",
    "np.ones((3,4)) #We have to mention tuple inside"
   ]
  },
  {
   "cell_type": "code",
   "execution_count": 134,
   "id": "23a97243-412c-4c40-8e3f-6f62fff67341",
   "metadata": {},
   "outputs": [
    {
     "data": {
      "text/plain": [
       "array([[1., 1., 1., 1., 1., 1.],\n",
       "       [1., 1., 1., 1., 1., 1.],\n",
       "       [1., 1., 1., 1., 1., 1.]])"
      ]
     },
     "execution_count": 134,
     "metadata": {},
     "output_type": "execute_result"
    }
   ],
   "source": [
    "np.ones((3,6))"
   ]
  },
  {
   "cell_type": "code",
   "execution_count": 136,
   "id": "a33d0c21-0a20-4a07-9ce3-03e3b62c6da9",
   "metadata": {},
   "outputs": [
    {
     "data": {
      "text/plain": [
       "array([[0., 0., 0., 0., 0., 0.],\n",
       "       [0., 0., 0., 0., 0., 0.],\n",
       "       [0., 0., 0., 0., 0., 0.]])"
      ]
     },
     "execution_count": 136,
     "metadata": {},
     "output_type": "execute_result"
    }
   ],
   "source": [
    "np.zeros((3,6)) #by default is shows float "
   ]
  },
  {
   "cell_type": "code",
   "execution_count": 138,
   "id": "70298808-61f1-43a0-b476-ecccd8228990",
   "metadata": {},
   "outputs": [
    {
     "data": {
      "text/plain": [
       "0.16590273908531095"
      ]
     },
     "execution_count": 138,
     "metadata": {},
     "output_type": "execute_result"
    }
   ],
   "source": [
    "# random()\n",
    "np.random.random()"
   ]
  },
  {
   "cell_type": "code",
   "execution_count": 142,
   "id": "be390af8-2744-4df9-a6a0-ff88ad315344",
   "metadata": {},
   "outputs": [
    {
     "data": {
      "text/plain": [
       "array([0.11234939, 0.35156237, 0.14490604])"
      ]
     },
     "execution_count": 142,
     "metadata": {},
     "output_type": "execute_result"
    }
   ],
   "source": [
    "np.random.random(3)"
   ]
  },
  {
   "cell_type": "code",
   "execution_count": 148,
   "id": "ff033466-eb9e-49e6-b2ff-b22083847ecc",
   "metadata": {},
   "outputs": [
    {
     "data": {
      "text/plain": [
       "array([[0.41423265, 0.42611664, 0.28588711, 0.72905655],\n",
       "       [0.99176913, 0.12933214, 0.6016891 , 0.07707899],\n",
       "       [0.277381  , 0.92692946, 0.64289505, 0.97646245]])"
      ]
     },
     "execution_count": 148,
     "metadata": {},
     "output_type": "execute_result"
    }
   ],
   "source": [
    "np.random.random((3,4))"
   ]
  },
  {
   "cell_type": "code",
   "execution_count": 205,
   "id": "d57c6d6b-08ae-418f-8d65-e7bb19f3135d",
   "metadata": {},
   "outputs": [
    {
     "data": {
      "text/plain": [
       "array([0.25782459, 0.11873167, 0.55607393, 0.14798408, 0.44802363])"
      ]
     },
     "execution_count": 205,
     "metadata": {},
     "output_type": "execute_result"
    }
   ],
   "source": [
    "np.random.rand(5)"
   ]
  },
  {
   "cell_type": "code",
   "execution_count": 177,
   "id": "2b9bf0d5-8766-43e9-9866-e57ed3048781",
   "metadata": {},
   "outputs": [
    {
     "data": {
      "text/plain": [
       "2"
      ]
     },
     "execution_count": 177,
     "metadata": {},
     "output_type": "execute_result"
    }
   ],
   "source": [
    "np.random.randint(2,4) # always print Middle and smaller # big number exclusive "
   ]
  },
  {
   "cell_type": "code",
   "execution_count": 179,
   "id": "aa055b3b-511e-4daa-8e5c-2616259f9aa8",
   "metadata": {},
   "outputs": [
    {
     "data": {
      "text/plain": [
       "4"
      ]
     },
     "execution_count": 179,
     "metadata": {},
     "output_type": "execute_result"
    }
   ],
   "source": [
    "np.random.randint(2,7)"
   ]
  },
  {
   "cell_type": "code",
   "execution_count": 191,
   "id": "c2a327f8-4513-403f-b280-ee7f835f9e0b",
   "metadata": {},
   "outputs": [
    {
     "data": {
      "text/plain": [
       "array([[[0.80338454, 0.30525808, 0.17347123, 0.45871963],\n",
       "        [0.65135278, 0.56400456, 0.25834457, 0.8576633 ],\n",
       "        [0.37056471, 0.94395054, 0.96592547, 0.20308514],\n",
       "        [0.87651763, 0.7893947 , 0.94057888, 0.22142517],\n",
       "        [0.03240045, 0.49183414, 0.00284839, 0.15744978]],\n",
       "\n",
       "       [[0.98167839, 0.34370085, 0.90522709, 0.92877348],\n",
       "        [0.76265345, 0.4696723 , 0.61148178, 0.13186702],\n",
       "        [0.23390186, 0.88430005, 0.38944066, 0.86740659],\n",
       "        [0.74020891, 0.30272516, 0.71035168, 0.09706693],\n",
       "        [0.25883252, 0.8991778 , 0.82732306, 0.86781281]]])"
      ]
     },
     "execution_count": 191,
     "metadata": {},
     "output_type": "execute_result"
    }
   ],
   "source": [
    "np.random.rand(2,5,4) #create a 2 layer with 5 rows and 4 columns"
   ]
  },
  {
   "cell_type": "code",
   "execution_count": 193,
   "id": "c6d7688e-c242-4daa-977f-7afef01d291f",
   "metadata": {},
   "outputs": [
    {
     "data": {
      "text/plain": [
       "array([11, 11, 13])"
      ]
     },
     "execution_count": 193,
     "metadata": {},
     "output_type": "execute_result"
    }
   ],
   "source": [
    "np.random.randint(10,15,3)"
   ]
  },
  {
   "cell_type": "code",
   "execution_count": 201,
   "id": "4b61667d-d89c-44a6-be05-00da37597db2",
   "metadata": {},
   "outputs": [
    {
     "data": {
      "text/plain": [
       "array([[25, 35, 32, 38, 36, 38, 29, 22, 12, 19, 36, 16],\n",
       "       [10, 30, 39, 27, 17, 23, 27, 20, 22, 25, 15, 15],\n",
       "       [16, 10, 30, 17, 39, 19, 23, 14, 15, 21, 18, 36],\n",
       "       [38, 25, 19, 22, 18, 34, 11, 25, 19, 37, 19, 38],\n",
       "       [38, 38, 16, 36, 26, 16, 28, 11, 12, 16, 24, 19]])"
      ]
     },
     "execution_count": 201,
     "metadata": {},
     "output_type": "execute_result"
    }
   ],
   "source": [
    "np.random.randint(10,40,(5,12))"
   ]
  },
  {
   "cell_type": "code",
   "execution_count": null,
   "id": "92f7b04c-bec0-46e0-bfca-2a9df337fcc2",
   "metadata": {},
   "outputs": [],
   "source": []
  }
 ],
 "metadata": {
  "kernelspec": {
   "display_name": "Python 3 (ipykernel)",
   "language": "python",
   "name": "python3"
  },
  "language_info": {
   "codemirror_mode": {
    "name": "ipython",
    "version": 3
   },
   "file_extension": ".py",
   "mimetype": "text/x-python",
   "name": "python",
   "nbconvert_exporter": "python",
   "pygments_lexer": "ipython3",
   "version": "3.12.4"
  }
 },
 "nbformat": 4,
 "nbformat_minor": 5
}
